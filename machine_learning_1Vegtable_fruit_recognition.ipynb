{
  "nbformat": 4,
  "nbformat_minor": 0,
  "metadata": {
    "colab": {
      "provenance": [],
      "mount_file_id": "1WvPPcStly_sBavtPJx2QNQ1V8xxzOlWF",
      "authorship_tag": "ABX9TyN/0aBNlLxqxHQiEOQQom/N",
      "include_colab_link": true
    },
    "kernelspec": {
      "name": "python3",
      "display_name": "Python 3"
    },
    "language_info": {
      "name": "python"
    }
  },
  "cells": [
    {
      "cell_type": "markdown",
      "metadata": {
        "id": "view-in-github",
        "colab_type": "text"
      },
      "source": [
        "<a href=\"https://colab.research.google.com/github/Axelleazed/machine-learning-projects/blob/main/machine_learning_1Vegtable_fruit_recognition.ipynb\" target=\"_parent\"><img src=\"https://colab.research.google.com/assets/colab-badge.svg\" alt=\"Open In Colab\"/></a>"
      ]
    },
    {
      "cell_type": "markdown",
      "source": [
        "#Importing data base"
      ],
      "metadata": {
        "id": "m1ef4KpPh5V_"
      }
    },
    {
      "cell_type": "code",
      "source": [
        "from google.colab import drive\n",
        "drive.mount ('/content/drive')"
      ],
      "metadata": {
        "colab": {
          "base_uri": "https://localhost:8080/"
        },
        "id": "nDhqlP-eh9p3",
        "outputId": "c70f483e-d38e-4d98-bae7-55cd4f2e2b5c"
      },
      "execution_count": null,
      "outputs": [
        {
          "output_type": "stream",
          "name": "stdout",
          "text": [
            "Drive already mounted at /content/drive; to attempt to forcibly remount, call drive.mount(\"/content/drive\", force_remount=True).\n"
          ]
        }
      ]
    },
    {
      "cell_type": "markdown",
      "source": [
        "#Importing libraries"
      ],
      "metadata": {
        "id": "yRiX5W3bjEkv"
      }
    },
    {
      "cell_type": "code",
      "source": [
        "import numpy as np\n",
        "import tensorflow as tf\n",
        "import matplotlib.pyplot as plt\n"
      ],
      "metadata": {
        "id": "AIput9TTjJrV"
      },
      "execution_count": null,
      "outputs": []
    },
    {
      "cell_type": "markdown",
      "source": [
        "#Data Preprocessing"
      ],
      "metadata": {
        "id": "ASA83EytjavE"
      }
    },
    {
      "cell_type": "markdown",
      "source": [
        "##Training image Preprocessing"
      ],
      "metadata": {
        "id": "Sxz2wE2yju6c"
      }
    },
    {
      "cell_type": "code",
      "source": [
        "training_set = tf.keras.utils.image_dataset_from_directory(\n",
        "    '/content/drive/MyDrive/vegetable_fruits_recognition/train',\n",
        "    labels='inferred',\n",
        "    label_mode='categorical',\n",
        "    class_names=None,\n",
        "    color_mode='rgb',\n",
        "    batch_size=32,\n",
        "    image_size=(64,64),\n",
        "    shuffle=True,\n",
        "    seed=None,\n",
        "    validation_split=None,\n",
        "    subset=None,\n",
        "    interpolation='bilinear',\n",
        "    follow_links=False,\n",
        "    crop_to_aspect_ratio=False,\n",
        "\n",
        ")"
      ],
      "metadata": {
        "colab": {
          "base_uri": "https://localhost:8080/"
        },
        "id": "kgAPJWBOjpz2",
        "outputId": "210cb157-1209-4fa4-ee9e-2fa41e6c01ff"
      },
      "execution_count": null,
      "outputs": [
        {
          "output_type": "stream",
          "name": "stdout",
          "text": [
            "Found 3115 files belonging to 36 classes.\n"
          ]
        }
      ]
    },
    {
      "cell_type": "markdown",
      "source": [
        "##Validation images preprocessing"
      ],
      "metadata": {
        "id": "ANP4CqRXn4gf"
      }
    },
    {
      "cell_type": "code",
      "source": [
        "validation_set = tf.keras.utils.image_dataset_from_directory (\n",
        "    '/content/drive/MyDrive/vegetable_fruits_recognition/validation',\n",
        "    labels='inferred',\n",
        "    label_mode='categorical',\n",
        "    class_names=None,\n",
        "    color_mode='rgb',\n",
        "    batch_size=32,\n",
        "    image_size=(64,64),\n",
        "    shuffle=True,\n",
        "    seed=None,\n",
        "    validation_split=None,\n",
        "    subset=None,\n",
        "    interpolation='bilinear',\n",
        "    follow_links=False,\n",
        "    crop_to_aspect_ratio=False,\n",
        "    )"
      ],
      "metadata": {
        "colab": {
          "base_uri": "https://localhost:8080/"
        },
        "id": "NjuA8xkPn9aX",
        "outputId": "9f42030c-ef27-449f-cffd-4519fb38b6c7"
      },
      "execution_count": null,
      "outputs": [
        {
          "output_type": "stream",
          "name": "stdout",
          "text": [
            "Found 351 files belonging to 36 classes.\n"
          ]
        }
      ]
    },
    {
      "cell_type": "markdown",
      "source": [
        "#Building Model"
      ],
      "metadata": {
        "id": "W_YwIKZVrz9-"
      }
    },
    {
      "cell_type": "code",
      "source": [
        "cnn = tf.keras.models.Sequential()"
      ],
      "metadata": {
        "id": "f6HKAQ4FoS-g"
      },
      "execution_count": null,
      "outputs": []
    },
    {
      "cell_type": "markdown",
      "source": [
        "##building convolution layer"
      ],
      "metadata": {
        "id": "EYGuPD7YsUcY"
      }
    },
    {
      "cell_type": "code",
      "source": [
        "cnn.add(tf.keras.layers.Conv2D(filters=32,kernel_size=3,activation='relu',input_shape=[64,64,3]))\n",
        "cnn.add(tf.keras.layers.Conv2D(filters=32,kernel_size=3,activation='relu'))\n",
        "cnn.add(tf.keras.layers.MaxPool2D(pool_size=2,strides=2))"
      ],
      "metadata": {
        "id": "3cRxtXTssFyJ"
      },
      "execution_count": null,
      "outputs": []
    },
    {
      "cell_type": "code",
      "source": [
        "cnn.add(tf.keras.layers.Conv2D(filters=64,kernel_size=3,activation='relu'))\n",
        "cnn.add(tf.keras.layers.Conv2D(filters=64,kernel_size=3,activation='relu'))\n",
        "cnn.add(tf.keras.layers.MaxPool2D(pool_size=2,strides=2))\n"
      ],
      "metadata": {
        "id": "VqG0MRrdvDdh"
      },
      "execution_count": null,
      "outputs": []
    },
    {
      "cell_type": "code",
      "source": [
        "cnn.add(tf.keras.layers.Flatten())"
      ],
      "metadata": {
        "id": "YFOOWeCcvljH"
      },
      "execution_count": null,
      "outputs": []
    },
    {
      "cell_type": "code",
      "source": [
        "cnn.add(tf.keras.layers.Dense(units=512,activation=\"relu\"))"
      ],
      "metadata": {
        "id": "rcKpIlZqvsmi"
      },
      "execution_count": null,
      "outputs": []
    },
    {
      "cell_type": "code",
      "source": [
        "cnn.add(tf.keras.layers.Dense(units=256,activation=\"relu\"))"
      ],
      "metadata": {
        "id": "JxHTINM4NjK1"
      },
      "execution_count": null,
      "outputs": []
    },
    {
      "cell_type": "code",
      "source": [
        "cnn.add(tf.keras.layers.Dropout(0.5))##avoid over fitiing"
      ],
      "metadata": {
        "id": "3Ry7LlgJNmG4"
      },
      "execution_count": null,
      "outputs": []
    },
    {
      "cell_type": "code",
      "source": [
        "#output layer\n",
        "cnn.add(tf.keras.layers.Dense(units=36,activation='softmax'))"
      ],
      "metadata": {
        "id": "ROQPoU1bwWbC"
      },
      "execution_count": null,
      "outputs": []
    },
    {
      "cell_type": "markdown",
      "source": [
        "#Compiling Training Phase"
      ],
      "metadata": {
        "id": "SixxRqwcyEMO"
      }
    },
    {
      "cell_type": "code",
      "source": [
        "cnn.compile(optimizer='adam',loss='categorical_crossentropy',metrics=['accuracy'])"
      ],
      "metadata": {
        "id": "Lztw3Kf6yKg4"
      },
      "execution_count": null,
      "outputs": []
    },
    {
      "cell_type": "code",
      "source": [
        "cnn.summary()"
      ],
      "metadata": {
        "colab": {
          "base_uri": "https://localhost:8080/"
        },
        "id": "OFLHc9bFONBG",
        "outputId": "cce60ab0-e8c3-409d-962c-63d2b5317b00"
      },
      "execution_count": null,
      "outputs": [
        {
          "output_type": "stream",
          "name": "stdout",
          "text": [
            "Model: \"sequential\"\n",
            "_________________________________________________________________\n",
            " Layer (type)                Output Shape              Param #   \n",
            "=================================================================\n",
            " conv2d (Conv2D)             (None, 62, 62, 32)        896       \n",
            "                                                                 \n",
            " conv2d_1 (Conv2D)           (None, 60, 60, 32)        9248      \n",
            "                                                                 \n",
            " max_pooling2d (MaxPooling2  (None, 30, 30, 32)        0         \n",
            " D)                                                              \n",
            "                                                                 \n",
            " conv2d_2 (Conv2D)           (None, 28, 28, 64)        18496     \n",
            "                                                                 \n",
            " conv2d_3 (Conv2D)           (None, 26, 26, 64)        36928     \n",
            "                                                                 \n",
            " max_pooling2d_1 (MaxPoolin  (None, 13, 13, 64)        0         \n",
            " g2D)                                                            \n",
            "                                                                 \n",
            " flatten (Flatten)           (None, 10816)             0         \n",
            "                                                                 \n",
            " dense (Dense)               (None, 512)               5538304   \n",
            "                                                                 \n",
            " dense_1 (Dense)             (None, 256)               131328    \n",
            "                                                                 \n",
            " dropout (Dropout)           (None, 256)               0         \n",
            "                                                                 \n",
            " dense_2 (Dense)             (None, 36)                9252      \n",
            "                                                                 \n",
            "=================================================================\n",
            "Total params: 5744452 (21.91 MB)\n",
            "Trainable params: 5744452 (21.91 MB)\n",
            "Non-trainable params: 0 (0.00 Byte)\n",
            "_________________________________________________________________\n"
          ]
        }
      ]
    },
    {
      "cell_type": "code",
      "source": [
        "training_history = cnn.fit(x=training_set,validation_data=validation_set,epochs=32)"
      ],
      "metadata": {
        "colab": {
          "base_uri": "https://localhost:8080/"
        },
        "id": "2MnyNwpSytZa",
        "outputId": "483e693d-8eb9-41ec-9b2d-f10b6b3d9a95"
      },
      "execution_count": null,
      "outputs": [
        {
          "output_type": "stream",
          "name": "stdout",
          "text": [
            "Epoch 1/32\n",
            "98/98 [==============================] - 828s 8s/step - loss: 6.0168 - accuracy: 0.0433 - val_loss: 3.5581 - val_accuracy: 0.0769\n",
            "Epoch 2/32\n",
            "98/98 [==============================] - 139s 1s/step - loss: 3.4778 - accuracy: 0.0565 - val_loss: 3.2402 - val_accuracy: 0.2308\n",
            "Epoch 3/32\n",
            "98/98 [==============================] - 146s 1s/step - loss: 3.2465 - accuracy: 0.1278 - val_loss: 2.6061 - val_accuracy: 0.3875\n",
            "Epoch 4/32\n",
            "98/98 [==============================] - 143s 1s/step - loss: 2.9347 - accuracy: 0.1987 - val_loss: 2.1301 - val_accuracy: 0.5755\n",
            "Epoch 5/32\n",
            "98/98 [==============================] - 152s 1s/step - loss: 2.4183 - accuracy: 0.3387 - val_loss: 1.2793 - val_accuracy: 0.7749\n",
            "Epoch 6/32\n",
            "98/98 [==============================] - 143s 1s/step - loss: 1.8326 - accuracy: 0.4857 - val_loss: 1.0525 - val_accuracy: 0.7550\n",
            "Epoch 7/32\n",
            "98/98 [==============================] - 136s 1s/step - loss: 1.2584 - accuracy: 0.6417 - val_loss: 0.6452 - val_accuracy: 0.8718\n",
            "Epoch 8/32\n",
            "98/98 [==============================] - 154s 1s/step - loss: 0.9014 - accuracy: 0.7557 - val_loss: 0.4685 - val_accuracy: 0.9088\n",
            "Epoch 9/32\n",
            "98/98 [==============================] - 138s 1s/step - loss: 0.6212 - accuracy: 0.8193 - val_loss: 0.4025 - val_accuracy: 0.9345\n",
            "Epoch 10/32\n",
            "98/98 [==============================] - 143s 1s/step - loss: 0.4890 - accuracy: 0.8645 - val_loss: 0.3340 - val_accuracy: 0.9430\n",
            "Epoch 11/32\n",
            "98/98 [==============================] - 144s 1s/step - loss: 0.3930 - accuracy: 0.8883 - val_loss: 0.3296 - val_accuracy: 0.9544\n",
            "Epoch 12/32\n",
            "98/98 [==============================] - 152s 1s/step - loss: 0.3389 - accuracy: 0.9075 - val_loss: 0.4330 - val_accuracy: 0.9231\n",
            "Epoch 13/32\n",
            "98/98 [==============================] - 146s 1s/step - loss: 0.2773 - accuracy: 0.9265 - val_loss: 0.4451 - val_accuracy: 0.9402\n",
            "Epoch 14/32\n",
            "98/98 [==============================] - 145s 1s/step - loss: 0.2672 - accuracy: 0.9319 - val_loss: 0.4073 - val_accuracy: 0.9231\n",
            "Epoch 15/32\n",
            "98/98 [==============================] - 145s 1s/step - loss: 0.2673 - accuracy: 0.9335 - val_loss: 0.3896 - val_accuracy: 0.9487\n",
            "Epoch 16/32\n",
            "98/98 [==============================] - 154s 1s/step - loss: 0.1925 - accuracy: 0.9512 - val_loss: 0.4649 - val_accuracy: 0.9487\n",
            "Epoch 17/32\n",
            "98/98 [==============================] - 146s 1s/step - loss: 0.1626 - accuracy: 0.9518 - val_loss: 0.4684 - val_accuracy: 0.9459\n",
            "Epoch 18/32\n",
            "98/98 [==============================] - 143s 1s/step - loss: 0.1866 - accuracy: 0.9551 - val_loss: 0.3983 - val_accuracy: 0.9544\n",
            "Epoch 19/32\n",
            "98/98 [==============================] - 139s 1s/step - loss: 0.1481 - accuracy: 0.9570 - val_loss: 0.4465 - val_accuracy: 0.9544\n",
            "Epoch 20/32\n",
            "98/98 [==============================] - 145s 1s/step - loss: 0.1591 - accuracy: 0.9608 - val_loss: 0.5329 - val_accuracy: 0.9487\n",
            "Epoch 21/32\n",
            "98/98 [==============================] - 134s 1s/step - loss: 0.1460 - accuracy: 0.9637 - val_loss: 0.4522 - val_accuracy: 0.9459\n",
            "Epoch 22/32\n",
            "98/98 [==============================] - 134s 1s/step - loss: 0.2275 - accuracy: 0.9409 - val_loss: 0.3946 - val_accuracy: 0.9544\n",
            "Epoch 23/32\n",
            "98/98 [==============================] - 144s 1s/step - loss: 0.1269 - accuracy: 0.9673 - val_loss: 0.3656 - val_accuracy: 0.9459\n",
            "Epoch 24/32\n",
            "98/98 [==============================] - 150s 1s/step - loss: 0.1353 - accuracy: 0.9705 - val_loss: 0.3482 - val_accuracy: 0.9601\n",
            "Epoch 25/32\n",
            "98/98 [==============================] - 143s 1s/step - loss: 0.1061 - accuracy: 0.9698 - val_loss: 0.4106 - val_accuracy: 0.9487\n",
            "Epoch 26/32\n",
            "98/98 [==============================] - 135s 1s/step - loss: 0.1086 - accuracy: 0.9711 - val_loss: 0.3733 - val_accuracy: 0.9544\n",
            "Epoch 27/32\n",
            "98/98 [==============================] - 133s 1s/step - loss: 0.1499 - accuracy: 0.9657 - val_loss: 0.3173 - val_accuracy: 0.9573\n",
            "Epoch 28/32\n",
            "98/98 [==============================] - 143s 1s/step - loss: 0.0889 - accuracy: 0.9785 - val_loss: 0.3072 - val_accuracy: 0.9487\n",
            "Epoch 29/32\n",
            "98/98 [==============================] - 144s 1s/step - loss: 0.1063 - accuracy: 0.9769 - val_loss: 0.3716 - val_accuracy: 0.9516\n",
            "Epoch 30/32\n",
            "98/98 [==============================] - 133s 1s/step - loss: 0.1394 - accuracy: 0.9685 - val_loss: 0.3547 - val_accuracy: 0.9487\n",
            "Epoch 31/32\n",
            "98/98 [==============================] - 142s 1s/step - loss: 0.1720 - accuracy: 0.9605 - val_loss: 0.3614 - val_accuracy: 0.9601\n",
            "Epoch 32/32\n",
            "98/98 [==============================] - 140s 1s/step - loss: 0.1023 - accuracy: 0.9746 - val_loss: 0.3648 - val_accuracy: 0.9544\n"
          ]
        }
      ]
    },
    {
      "cell_type": "markdown",
      "source": [
        "#saving the model"
      ],
      "metadata": {
        "id": "IkBnDgL36PvB"
      }
    },
    {
      "cell_type": "code",
      "source": [
        "cnn.save('trained_model.h5')"
      ],
      "metadata": {
        "id": "yqYTdlG_zKx5",
        "colab": {
          "base_uri": "https://localhost:8080/"
        },
        "outputId": "489f7334-ad8e-48e3-e637-a0ab65c7e0c1"
      },
      "execution_count": null,
      "outputs": [
        {
          "output_type": "stream",
          "name": "stderr",
          "text": [
            "/usr/local/lib/python3.10/dist-packages/keras/src/engine/training.py:3103: UserWarning: You are saving your model as an HDF5 file via `model.save()`. This file format is considered legacy. We recommend using instead the native Keras format, e.g. `model.save('my_model.keras')`.\n",
            "  saving_api.save_model(\n"
          ]
        }
      ]
    },
    {
      "cell_type": "code",
      "source": [
        "training_history.history #return directory of history"
      ],
      "metadata": {
        "colab": {
          "base_uri": "https://localhost:8080/",
          "height": 146
        },
        "id": "TwmR-Mp660DY",
        "outputId": "0bbf3f6a-9108-4be6-dd08-850e10a6be00"
      },
      "execution_count": 2,
      "outputs": [
        {
          "output_type": "error",
          "ename": "NameError",
          "evalue": "name 'training_history' is not defined",
          "traceback": [
            "\u001b[0;31m---------------------------------------------------------------------------\u001b[0m",
            "\u001b[0;31mNameError\u001b[0m                                 Traceback (most recent call last)",
            "\u001b[0;32m<ipython-input-2-3d23cccd23fe>\u001b[0m in \u001b[0;36m<cell line: 1>\u001b[0;34m()\u001b[0m\n\u001b[0;32m----> 1\u001b[0;31m \u001b[0mtraining_history\u001b[0m\u001b[0;34m.\u001b[0m\u001b[0mhistory\u001b[0m \u001b[0;31m#return directory of history\u001b[0m\u001b[0;34m\u001b[0m\u001b[0;34m\u001b[0m\u001b[0m\n\u001b[0m",
            "\u001b[0;31mNameError\u001b[0m: name 'training_history' is not defined"
          ]
        }
      ]
    },
    {
      "cell_type": "code",
      "source": [
        "#recording history\n",
        "import json\n",
        "with open('trainig_hist.json','w') as f:\n",
        "  json.dump(training_history.history,f)"
      ],
      "metadata": {
        "id": "N6lr96kz5--0",
        "colab": {
          "base_uri": "https://localhost:8080/",
          "height": 183
        },
        "outputId": "c7f679f3-94c4-4f2b-82cb-a8eac39b6529"
      },
      "execution_count": 1,
      "outputs": [
        {
          "output_type": "error",
          "ename": "NameError",
          "evalue": "name 'training_history' is not defined",
          "traceback": [
            "\u001b[0;31m---------------------------------------------------------------------------\u001b[0m",
            "\u001b[0;31mNameError\u001b[0m                                 Traceback (most recent call last)",
            "\u001b[0;32m<ipython-input-1-4db3dacd16d0>\u001b[0m in \u001b[0;36m<cell line: 3>\u001b[0;34m()\u001b[0m\n\u001b[1;32m      2\u001b[0m \u001b[0;32mimport\u001b[0m \u001b[0mjson\u001b[0m\u001b[0;34m\u001b[0m\u001b[0;34m\u001b[0m\u001b[0m\n\u001b[1;32m      3\u001b[0m \u001b[0;32mwith\u001b[0m \u001b[0mopen\u001b[0m\u001b[0;34m(\u001b[0m\u001b[0;34m'trainig_hist.json'\u001b[0m\u001b[0;34m,\u001b[0m\u001b[0;34m'w'\u001b[0m\u001b[0;34m)\u001b[0m \u001b[0;32mas\u001b[0m \u001b[0mf\u001b[0m\u001b[0;34m:\u001b[0m\u001b[0;34m\u001b[0m\u001b[0;34m\u001b[0m\u001b[0m\n\u001b[0;32m----> 4\u001b[0;31m   \u001b[0mjson\u001b[0m\u001b[0;34m.\u001b[0m\u001b[0mdump\u001b[0m\u001b[0;34m(\u001b[0m\u001b[0mtraining_history\u001b[0m\u001b[0;34m.\u001b[0m\u001b[0mhistory\u001b[0m\u001b[0;34m,\u001b[0m\u001b[0mf\u001b[0m\u001b[0;34m)\u001b[0m\u001b[0;34m\u001b[0m\u001b[0;34m\u001b[0m\u001b[0m\n\u001b[0m",
            "\u001b[0;31mNameError\u001b[0m: name 'training_history' is not defined"
          ]
        }
      ]
    },
    {
      "cell_type": "code",
      "source": [
        "print(training_history.history.keys())"
      ],
      "metadata": {
        "colab": {
          "base_uri": "https://localhost:8080/"
        },
        "id": "7dEaouSK7I6x",
        "outputId": "c1e301f2-884b-4e47-80f5-8310da28ac3d"
      },
      "execution_count": null,
      "outputs": [
        {
          "output_type": "stream",
          "name": "stdout",
          "text": [
            "dict_keys(['loss', 'accuracy', 'val_loss', 'val_accuracy'])\n"
          ]
        }
      ]
    },
    {
      "cell_type": "markdown",
      "source": [
        "#calculating accuracy of model achived on validation set"
      ],
      "metadata": {
        "id": "QgytDC5U7oeK"
      }
    },
    {
      "cell_type": "code",
      "source": [
        "print(f\"validation_set_accuracy_is_{training_history.history['val_accuracy'][-1]*100}\")"
      ],
      "metadata": {
        "colab": {
          "base_uri": "https://localhost:8080/"
        },
        "id": "67I-10sP7uR0",
        "outputId": "1a2843ee-d6f4-4630-ff67-1df1369bee1a"
      },
      "execution_count": null,
      "outputs": [
        {
          "output_type": "stream",
          "name": "stdout",
          "text": [
            "validation_set_accuracy_is_95.44159770011902\n"
          ]
        }
      ]
    },
    {
      "cell_type": "markdown",
      "source": [
        "#accuracy visualization"
      ],
      "metadata": {
        "id": "Qvam9plC87EQ"
      }
    },
    {
      "cell_type": "markdown",
      "source": [
        "##training visualization"
      ],
      "metadata": {
        "id": "pLc_OVlg9BMi"
      }
    },
    {
      "cell_type": "code",
      "source": [
        "epochs = [i for i in range (1,33)]\n",
        "plt.plot(epochs,training_history.history['accuracy'],color='red')\n",
        "plt.xlabel('epochs')\n",
        "plt.ylabel('training_accuracy')\n",
        "plt.title('visualization of training accuracy result')\n",
        "plt.show()"
      ],
      "metadata": {
        "colab": {
          "base_uri": "https://localhost:8080/",
          "height": 472
        },
        "id": "jvzfDRcY9ADt",
        "outputId": "949ca812-1c4b-4d70-801b-613e7125080c"
      },
      "execution_count": null,
      "outputs": [
        {
          "output_type": "display_data",
          "data": {
            "text/plain": [
              "<Figure size 640x480 with 1 Axes>"
            ],
            "image/png": "[encoded data removed]"
          },
          "metadata": {}
        }
      ]
    },
    {
      "cell_type": "markdown",
      "source": [
        "##validation accuracy"
      ],
      "metadata": {
        "id": "e421Xs9R-QvS"
      }
    },
    {
      "cell_type": "code",
      "source": [
        "\n",
        "plt.plot(epochs,training_history.history['val_accuracy'],color='blue')\n",
        "plt.xlabel('epochs')\n",
        "plt.ylabel('validation_accuracy')\n",
        "plt.title('visualization of validation accuracy result')\n",
        "plt.show()"
      ],
      "metadata": {
        "colab": {
          "base_uri": "https://localhost:8080/",
          "height": 472
        },
        "id": "KorFUGNr9N19",
        "outputId": "b0055f62-d13a-4479-8fb7-93c06806b6b8"
      },
      "execution_count": null,
      "outputs": [
        {
          "output_type": "display_data",
          "data": {
            "text/plain": [
              "<Figure size 640x480 with 1 Axes>"
            ],
            "image/png": "[encoded data removed]"
          },
          "metadata": {}
        }
      ]
    },
    {
      "cell_type": "code",
      "source": [],
      "metadata": {
        "id": "eb2_PX0f-hfT"
      },
      "execution_count": null,
      "outputs": []
    }
  ]
}